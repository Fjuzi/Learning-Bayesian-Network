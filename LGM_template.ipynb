{
 "cells": [
  {
   "cell_type": "markdown",
   "metadata": {},
   "source": [
    "### Linear Gaussian Model"
   ]
  },
  {
   "cell_type": "code",
   "execution_count": 22,
   "metadata": {
    "pycharm": {
     "is_executing": false
    }
   },
   "outputs": [],
   "source": [
    "import numpy as np\n",
    "from lmfit import Model\n",
    "from collections import Counter\n",
    "from math import exp\n",
    "from math import sqrt\n",
    "from math import pi\n",
    "from sklearn.model_selection import KFold, StratifiedKFold\n",
    "from sklearn.metrics import roc_curve, auc\n",
    "from matplotlib import pyplot\n",
    "\n",
    "import matplotlib.pyplot as plt\n",
    "from sklearn.metrics import confusion_matrix"
   ]
  },
  {
   "cell_type": "markdown",
   "metadata": {},
   "source": [
    "#### Auxiliary functions"
   ]
  },
  {
   "cell_type": "code",
   "execution_count": 2,
   "metadata": {
    "collapsed": true,
    "pycharm": {
     "is_executing": false
    }
   },
   "outputs": [],
   "source": [
    "# Skeleton definition\n",
    "NUI_SKELETON_POSITION_COUNT = 20\n",
    "\n",
    "NONE = -1\n",
    "HIP_CENTER = 0\n",
    "SPINE = 1\n",
    "SHOULDER_CENTER = 2\n",
    "HEAD = 3\n",
    "SHOULDER_LEFT = 4\n",
    "ELBOW_LEFT = 5\n",
    "WRIST_LEFT = 6\n",
    "HAND_LEFT = 7\n",
    "SHOULDER_RIGHT = 8\n",
    "ELBOW_RIGHT = 9\n",
    "WRIST_RIGHT = 10\n",
    "HAND_RIGHT = 11\n",
    "HIP_LEFT = 12\n",
    "KNEE_LEFT = 13\n",
    "ANKLE_LEFT = 14\n",
    "FOOT_LEFT = 15\n",
    "HIP_RIGHT = 16\n",
    "KNEE_RIGHT = 17\n",
    "ANKLE_RIGHT = 18\n",
    "FOOT_RIGHT = 19\n",
    "\n",
    "nui_skeleton_names = ( \\\n",
    "    'HIP_CENTER', 'SPINE', 'SHOULDER_CENTER', 'HEAD', \\\n",
    "    'SHOULDER_LEFT', 'ELBOW_LEFT', 'WRIST_LEFT', 'HAND_LEFT', \\\n",
    "    'SHOULDER_RIGHT', 'ELBOW_RIGHT', 'WRIST_RIGHT', 'HAND_RIGHT', \\\n",
    "    'HIP_LEFT', 'KNEE_LEFT', 'ANKLE_LEFT', 'FOOT_LEFT', \\\n",
    "    'HIP_RIGHT', 'KNEE_RIGHT', 'ANKLE_RIGHT', 'FOOT_RIGHT' )\n",
    "\n",
    "nui_skeleton_conn = ( \\\n",
    "    NONE, \\\n",
    "    HIP_CENTER, \\\n",
    "    SPINE, \\\n",
    "    SHOULDER_CENTER, \\\n",
    "    # Left arm \n",
    "    SHOULDER_CENTER, \\\n",
    "    SHOULDER_LEFT,  \\\n",
    "    ELBOW_LEFT,  \\\n",
    "    WRIST_LEFT,  \\\n",
    "    # Right arm \n",
    "    SHOULDER_CENTER,  \\\n",
    "    SHOULDER_RIGHT,  \\\n",
    "    ELBOW_RIGHT,  \\\n",
    "    WRIST_RIGHT,  \\\n",
    "    # Left leg \n",
    "    HIP_CENTER,  \\\n",
    "    HIP_LEFT,  \\\n",
    "    KNEE_LEFT,  \\\n",
    "    ANKLE_LEFT,  \\\n",
    "    # Right leg \n",
    "    HIP_CENTER,  \\\n",
    "    HIP_RIGHT,  \\\n",
    "    KNEE_RIGHT,  \\\n",
    "    ANKLE_RIGHT,  \\\n",
    ")\n"
   ]
  },
  {
   "cell_type": "code",
   "execution_count": 3,
   "metadata": {
    "collapsed": true,
    "pycharm": {
     "is_executing": false
    }
   },
   "outputs": [],
   "source": [
    "def load_dataset(file=None):\n",
    "    \"\"\"\n",
    "      Returns the data, the labels and the person id for each action\n",
    "    \"\"\"\n",
    "    import scipy.io\n",
    "    \n",
    "    if file is None:\n",
    "        ex = scipy.io.loadmat('data/data.mat')\n",
    "    else:\n",
    "        ex = scipy.io.loadmat(file)\n",
    "        \n",
    "    return ex['data'],ex['labels'],ex['individuals']\n"
   ]
  },
  {
   "cell_type": "code",
   "execution_count": 4,
   "metadata": {
    "pycharm": {
     "is_executing": false,
     "name": "#%%\n"
    }
   },
   "outputs": [],
   "source": [
    "def load_validation(file=None):\n",
    "    \"\"\"\n",
    "      Returns the data, the labels and the person id for each action\n",
    "    \"\"\"\n",
    "    import scipy.io\n",
    "\n",
    "    if file is None:\n",
    "        ex = scipy.io.loadmat('data/validation_data.mat')\n",
    "    else:\n",
    "        ex = scipy.io.loadmat(file)\n",
    "\n",
    "    return ex['data_small'], ex['individuals_small'], ex['labels_small'], ex['model_lg'], ex['model_nb'], ex[\n",
    "        'test_indexes'], ex['train_indexes']\n"
   ]
  },
  {
   "cell_type": "code",
   "execution_count": 5,
   "metadata": {
    "pycharm": {
     "is_executing": false,
     "name": "#%%\n"
    }
   },
   "outputs": [],
   "source": [
    "def load_ejemlo(file=None):\n",
    "    \"\"\"\n",
    "      Returns the data, the labels and the person id for each action\n",
    "    \"\"\"\n",
    "    import scipy.io\n",
    "\n",
    "    if file is None:\n",
    "        ex = scipy.io.loadmat('data/jobb.mat')\n",
    "    else:\n",
    "        ex = scipy.io.loadmat(file)\n",
    "\n",
    "    return ex['x'], ex['y'], ex['betas'], ex['sigma']"
   ]
  },
  {
   "cell_type": "code",
   "execution_count": 6,
   "metadata": {
    "collapsed": true,
    "pycharm": {
     "is_executing": false
    }
   },
   "outputs": [],
   "source": [
    "def log_normpdf(x, mu, sigma):\n",
    "    \"\"\"\n",
    "      Computes the natural logarithm of the normal probability density function\n",
    "      \n",
    "    \"\"\"\n",
    "    exponent = exp(-((x - mu) ** 2 / (2 * sigma ** 2)))\n",
    "    return np.log((1 / (sqrt(2 * pi) * sigma)) * exponent)\n"
   ]
  },
  {
   "cell_type": "code",
   "execution_count": 7,
   "metadata": {
    "collapsed": true,
    "pycharm": {
     "is_executing": false
    }
   },
   "outputs": [],
   "source": [
    "def normalize_logprobs(log_probs):\n",
    "    \"\"\"\n",
    "       Returns the log prob normalizes so that when exponenciated\n",
    "       it adds up to 1 (Useful to normalizes logprobs)\n",
    "    \"\"\"\n",
    "        #log_probs = log_probs - np.min(log_probs)\n",
    "    mm = np.max(log_probs)\n",
    "    #e = 0.001\n",
    "    return (np.exp(log_probs - mm))\n",
    "    '''val = log_probs - mm - np.log(np.sum(np.exp(log_probs - mm)))\n",
    "    val = val + np.abs(np.min(val))\n",
    "    val = val/np.sum(val)\n",
    "    return val'''\n"
   ]
  },
  {
   "cell_type": "markdown",
   "metadata": {},
   "source": [
    "#### Functions to implement"
   ]
  },
  {
   "cell_type": "code",
   "execution_count": 24,
   "metadata": {
    "pycharm": {
     "is_executing": false
    }
   },
   "outputs": [],
   "source": [
    "def fit_gaussian(X, W=None):\n",
    "    \"\"\"\n",
    "      Compute the mean and variance of X, \n",
    "      You can ignore W for the moment\n",
    "    \"\"\"\n",
    "    variance = np.std(X)\n",
    "    mean = np.mean(X)\n",
    "    return mean, variance\n"
   ]
  },
  {
   "cell_type": "code",
   "execution_count": 15,
   "metadata": {
    "collapsed": true
   },
   "outputs": [],
   "source": [
    "def my_cov(x,y,w):\n",
    "    \"\"\"\n",
    "      Useful function for fit_linear_gaussian\n",
    "    \"\"\"\n",
    "    return np.sum(w*x*y)/np.sum(w)-np.sum(w*x)*np.sum(w*y)/np.sum(w)/np.sum(w)\n"
   ]
  },
  {
   "cell_type": "code",
   "execution_count": 8,
   "metadata": {
    "pycharm": {
     "is_executing": false
    }
   },
   "outputs": [],
   "source": [
    "def fit_linear_gaussian(Y, X, W=None):\n",
    "    \"\"\"\n",
    "    Input:\n",
    "      Y: vector of size D with the observations for the variable\n",
    "      X: matrix DxV with the observations for the parent variables\n",
    "                 of X. V is the number of parent variables\n",
    "      W: vector of size D with the weights of the instances (ignore for the moment)\n",
    "\n",
    "    Outout:\n",
    "       The betas and sigma\n",
    "    \"\"\"\n",
    "    n = X.shape[1]\n",
    "    A = np.ones([n + 1, n + 1])\n",
    "    # create matrix A\n",
    "    for i in range(0, n + 1):\n",
    "        for j in range(0, n + 1):\n",
    "            if i == 0 and j != 0:\n",
    "                A[i, j] = np.mean(X[:, j - 1])\n",
    "            elif j == 0 and i != 0:\n",
    "                A[i, j] = np.mean(X[:, i - 1])\n",
    "            elif i != 0 and j != 0:\n",
    "                A[i, j] = np.mean(np.multiply(X[:, i - 1], X[:, j - 1]))\n",
    "    # calculation of b-s\n",
    "    b = [np.mean(np.multiply(np.transpose(Y), np.squeeze(X[:, i - 1]))) if i != 0 else np.mean(Y) for i in\n",
    "         range(0, n + 1)]\n",
    "    # solution with linear algebra\n",
    "    betas = np.linalg.solve(A, b)\n",
    "\n",
    "    # finally calculate the sigmas the way we learned in the lecture\n",
    "    # this is the second part of the equation\n",
    "    accumulator = 0\n",
    "    for i in range(0, n):\n",
    "        for j in range(0, n):\n",
    "            kovX = np.mean(np.multiply(X[:, j], X[:, i])) - np.mean(X[:, j]) * np.mean(X[:, i])\n",
    "            accumulator = accumulator + kovX * betas[j + 1] * betas[i + 1]\n",
    "    # the first part of the equation\n",
    "    kovY = np.mean(np.multiply(Y, Y)) - (np.mean(Y) * np.mean(Y))\n",
    "    # and the subtraction\n",
    "    sigma = sqrt(kovY - accumulator)\n",
    "    return betas, sigma"
   ]
  },
  {
   "cell_type": "code",
   "execution_count": 11,
   "metadata": {
    "pycharm": {
     "is_executing": false
    }
   },
   "outputs": [],
   "source": [
    "# the class which represents our model\n",
    "class classModel:\n",
    "    connectivity = None  # n x 2 connectivity matrix, ffirst element is the parent, seond the children\n",
    "    class_priors = None  # class priors with the initial priors, I set it as equal (but it can be anything else)\n",
    "    jointparts = []  # where the joins are stored\n",
    "\n",
    "\n",
    "# the form of a given joint\n",
    "class jointpart:\n",
    "    means = None\n",
    "    sigma = None\n",
    "\n",
    "    def __init__(self):\n",
    "        self.sigma = None\n",
    "        self.means = None\n",
    "# we give one joint and the funtion find its parent\n",
    "def find_parents(model, j):\n",
    "    for k in range(model.connectivity.shape[0]):\n",
    "        if model.connectivity[k, 1] == j:\n",
    "            return model.connectivity[k, 0]\n",
    "    return -1"
   ]
  },
  {
   "cell_type": "code",
   "execution_count": 12,
   "metadata": {
    "pycharm": {
     "is_executing": false,
     "name": "#%%\n"
    }
   },
   "outputs": [],
   "source": [
    "def learn_model(dataset, labels, G=None):\n",
    "    \"\"\"\n",
    "    Input:\n",
    "     dataset: The data as it is loaded from load_data\n",
    "     labels:  The labels as loaded from load_data\n",
    "     Graph:   (optional) If None, this def should compute the naive\n",
    "           bayes model. If it contains a skel description (pe\n",
    "           nui_skeleton_conn, as obtained from skel_model) then it should\n",
    "           compute the model using the Linear Gausian Model\n",
    "\n",
    "    Output: the model\n",
    "     a (tentative) structure for the output model is:\n",
    "       model.connectivity: the input Graph variable should be stored here\n",
    "                           for later use.\n",
    "       model.class_priors: containing a vector with the prior estimations\n",
    "                           for each class\n",
    "       model.jointparts[i] contains the estimated parameters for the i-th joint\n",
    "\n",
    "          For joints that only depend on the class model.jointparts(i) has:\n",
    "            model.jointparts(i).means: a matrix of 3 x #classes with the\n",
    "                   estimated means for each of the x,y,z variables of the\n",
    "                   i-th joint and for each class.\n",
    "            model.jointparts(i).sigma: a matrix of 3 x #classes with the\n",
    "                   estimated stadard deviations for each of the x,y,z\n",
    "                   variables of the i-th joint and for each class.\n",
    "\n",
    "          For joints that follow a gausian linear model model.jointparts(i) has:\n",
    "            model.jointparts(i).betas: a matrix of 12 x #classes with the\n",
    "                   estimated betas for each x,y,z variables (12 in total)\n",
    "                   of the i-th joint and for each class label.\n",
    "            model.jointparts(i).sigma: as above\n",
    "\n",
    "    \"\"\"\n",
    "    model = classModel()\n",
    "\n",
    "    if G is not None:\n",
    "        #convert the connectivity matrix in a form that is better for us (and which is same as the example\n",
    "        G = create_connection_matrix(G)\n",
    "    model.connectivity = G\n",
    "\n",
    "    # get what kind of classes are, and how many element they have\n",
    "    tipusok, db = np.unique(labels, return_counts=True)\n",
    "    numberOfClasses = len(tipusok)\n",
    "\n",
    "    # define priors by making them equal\n",
    "    model.class_priors = np.ones(numberOfClasses) * 1 / numberOfClasses\n",
    "\n",
    "    # separate data for different class\n",
    "    separated = dict()\n",
    "    for i in range(numberOfClasses):\n",
    "        separated[tipusok[i]] = np.zeros([dataset.shape[0], dataset.shape[1], db[i]])\n",
    "        k = 0\n",
    "        for j in range(dataset.shape[2]):\n",
    "            if labels[j] == tipusok[i]:\n",
    "                separated[tipusok[i]][:, :, k] = dataset[:, :, j]\n",
    "                k = k + 1\n",
    "\n",
    "    if G is None:\n",
    "        model.jointparts = []\n",
    "        # here we just prepare the model variable by creating the empty sets\n",
    "        for i in range(dataset.shape[0]):\n",
    "            darabok = jointpart()\n",
    "            darabok.means = np.zeros([3, numberOfClasses])\n",
    "            darabok.sigma = np.zeros([3, numberOfClasses])\n",
    "            model.jointparts.append(darabok)\n",
    "        # in this loop we make the training\n",
    "        for i in range(numberOfClasses):\n",
    "            for j in range(len(model.jointparts)):\n",
    "                darab = separated[tipusok[i]]\n",
    "                # we fit a gaussian to each x,y,z coordinates for each joints for all instances\n",
    "                # the function will return the parameters of the gaussians\n",
    "                model.jointparts[j].means[0, i], model.jointparts[j].sigma[0, i] = fit_gaussian(darab[j, 0, :])\n",
    "                model.jointparts[j].means[1, i], model.jointparts[j].sigma[1, i] = fit_gaussian(darab[j, 1, :])\n",
    "                model.jointparts[j].means[2, i], model.jointparts[j].sigma[2, i] = fit_gaussian(darab[j, 2, :])\n",
    "        return model\n",
    "\n",
    "    else:\n",
    "        model.jointparts = []\n",
    "        numberOfParents = 1\n",
    "\n",
    "        darabok = jointpart()\n",
    "        darabok.means = np.zeros([3, numberOfClasses])\n",
    "        darabok.sigma = np.zeros([3, numberOfClasses])\n",
    "        model.jointparts.append(darabok)\n",
    "        # initialize the model variable with the empty attributes\n",
    "        for i in range(1, dataset.shape[0]):\n",
    "            darabok = jointpart()\n",
    "            darabok.means = np.zeros([3 * (numberOfParents * 3 + 1), numberOfClasses])\n",
    "            darabok.sigma = np.zeros([3, numberOfClasses])\n",
    "            model.jointparts.append(darabok)\n",
    "        # perform the training\n",
    "        for i in range(numberOfClasses):\n",
    "            for j in range(len(model.jointparts)):\n",
    "                darab = separated[tipusok[i]]  # get the slice of training data for a given class\n",
    "                parent = find_parents(model, j)  # find the parents of a given joint\n",
    "                # if it has a parent:\n",
    "                if parent != -1:\n",
    "                    parents = np.zeros([dataset.shape[1] * numberOfParents, darab.shape[2]])\n",
    "                    #Select the data belonging to the parent joint\n",
    "                    parents[0, :] = darab[parent, 0, :]\n",
    "                    parents[1, :] = darab[parent, 1, :]\n",
    "                    parents[2, :] = darab[parent, 2, :]\n",
    "                    # calculate the betas, and sigma based on the parent for x,y,z\n",
    "                    x_ek = darab[j, 0, :]  # select the x-es\n",
    "                    betas, sigma = fit_linear_gaussian(x_ek, np.transpose(parents))\n",
    "                    model.jointparts[j].means[0:4,\n",
    "                    i] = betas  # the betas will have 12 row, and 4 will be for x, 4 for y, and 4 for z\n",
    "                    model.jointparts[j].sigma[0, i] = sigma\n",
    "\n",
    "                    y_ek = darab[j, 1, :]\n",
    "                    betas, sigma = fit_linear_gaussian(y_ek, np.transpose(parents))\n",
    "                    model.jointparts[j].means[4:8, i] = betas\n",
    "                    model.jointparts[j].sigma[1, i] = sigma\n",
    "\n",
    "                    z_ek = darab[j, 2, :]\n",
    "                    betas, sigma = fit_linear_gaussian(z_ek, np.transpose(parents))\n",
    "                    model.jointparts[j].means[8:12, i] = betas\n",
    "                    model.jointparts[j].sigma[2, i] = sigma\n",
    "                else:\n",
    "                    # if the joint has no parent just create the simple gaussian\n",
    "                    model.jointparts[j].means[0, i], model.jointparts[j].sigma[0, i] = fit_gaussian(darab[j, 0, :])\n",
    "                    model.jointparts[j].means[1, i], model.jointparts[j].sigma[1, i] = fit_gaussian(darab[j, 1, :])\n",
    "                    model.jointparts[j].means[2, i], model.jointparts[j].sigma[2, i] = fit_gaussian(darab[j, 2, :])\n",
    "        return model"
   ]
  },
  {
   "cell_type": "code",
   "execution_count": 13,
   "metadata": {
    "collapsed": true,
    "pycharm": {
     "is_executing": false
    }
   },
   "outputs": [],
   "source": [
    "def classify_instances(instances, model):\n",
    "    \"\"\"\n",
    "    Input\n",
    "       instance: a 20x3x#instances matrix defining body positions of\n",
    "                 instances\n",
    "       model: as the output of learn_model\n",
    "\n",
    "    Output\n",
    "       probs: a matrix of #instances x #classes with the probability of each\n",
    "              instance of belonging to each of the classes\n",
    "\n",
    "    Important: to avoid underflow numerical issues this computations should\n",
    "               be performed in log space\n",
    "    \"\"\"\n",
    "\n",
    "    numOfClasses = 4\n",
    "    probs = np.ones([instances.shape[2], numOfClasses])\n",
    "    # for for each testing instance we\n",
    "    for i in range(instances.shape[2]):\n",
    "        probs[i, :] = normalize_logprobs(compute_logprobs(instances[:, :, i], model))\n",
    "    return probs\n",
    "\n",
    "\n"
   ]
  },
  {
   "cell_type": "code",
   "execution_count": 14,
   "metadata": {
    "collapsed": true,
    "pycharm": {
     "is_executing": false
    }
   },
   "outputs": [],
   "source": [
    "def compute_logprobs(example, model):\n",
    "    \"\"\"\n",
    "\n",
    "       Input\n",
    "           instance: a 20x3 matrix defining body positions of one instance\n",
    "           model: as given by learn_model\n",
    "\n",
    "       Output\n",
    "           l: a vector of len #classes containing the loglikelihhod of the\n",
    "              instance\n",
    "\n",
    "    \"\"\"\n",
    "\n",
    "    num_of_classes = 4\n",
    "    if model.connectivity is None:\n",
    "        l = np.zeros([num_of_classes])\n",
    "        for k in range(num_of_classes):\n",
    "            for j in range(len(model.jointparts)):\n",
    "                x_prob = log_normpdf(example[j, 0], model.jointparts[j].means[0, k], model.jointparts[j].sigma[0, k])\n",
    "                y_prob = log_normpdf(example[j, 1], model.jointparts[j].means[1, k], model.jointparts[j].sigma[1, k])\n",
    "                z_prob = log_normpdf(example[j, 2], model.jointparts[j].means[2, k], model.jointparts[j].sigma[2, k])\n",
    "                log_prior = np.log(model.class_priors[k])\n",
    "                l[k] = l[k] + (x_prob + y_prob + z_prob + log_prior)\n",
    "        return l\n",
    "    else:\n",
    "        l = np.zeros([num_of_classes])\n",
    "        for k in range(num_of_classes):\n",
    "            log_prior = np.log(model.class_priors[k])\n",
    "            l[k] = log_prior\n",
    "            for j in range(len(model.jointparts)):\n",
    "                parent_node = find_parents(model, j)\n",
    "                if parent_node != -1:\n",
    "                    for i in range(3):\n",
    "                        calculation = model.jointparts[j].means[(i * 4), k] \\\n",
    "                                      + (model.jointparts[j].means[(i * 4) + 1, k] * example[parent_node, 0]) \\\n",
    "                                      + (model.jointparts[j].means[(i * 4) + 2, k] * example[parent_node, 1]) \\\n",
    "                                      + (model.jointparts[j].means[(i * 4) + 3, k] * example[parent_node, 2])\n",
    "                        combined_lognorm = log_normpdf(example[j, i], calculation, model.jointparts[j].sigma[i, k])\n",
    "                        l[k] = l[k] + combined_lognorm\n",
    "                else:\n",
    "                    x_prob = log_normpdf(example[j, 0], model.jointparts[j].means[0, k],\n",
    "                                         model.jointparts[j].sigma[0, k])\n",
    "                    y_prob = log_normpdf(example[j, 1], model.jointparts[j].means[1, k],\n",
    "                                         model.jointparts[j].sigma[1, k])\n",
    "                    z_prob = log_normpdf(example[j, 2], model.jointparts[j].means[2, k],\n",
    "                                         model.jointparts[j].sigma[2, k])\n",
    "                    l[k] = l[k] + (x_prob + y_prob + z_prob)\n",
    "        return l"
   ]
  },
  {
   "cell_type": "code",
   "execution_count": 8,
   "metadata": {
    "pycharm": {
     "is_executing": false,
     "name": "#%%\n"
    }
   },
   "outputs": [],
   "source": [
    "def generate_random_lgm_samples(n, betas, sigma):\n",
    "    \"\"\"Function to generate random samples for a \n",
    "       Linear Gaussian Model\n",
    "       Input:\n",
    "           n: Number of samples\n",
    "           betas: vector with the values the the betas from 0 to k\n",
    "           sigma: standard deviation\n",
    "    \"\"\"\n",
    "    X = np.random.randn(n,betas.shape[0]-1)\n",
    "    Y = np.random.randn(n)*sigma + np.sum(X*betas[1:],axis=1)+betas[0]\n",
    "    return X,Y\n"
   ]
  },
  {
   "cell_type": "code",
   "execution_count": 16,
   "metadata": {
    "pycharm": {
     "is_executing": false,
     "name": "#%%\n"
    }
   },
   "outputs": [],
   "source": [
    "def validation(valsegek, labelek):\n",
    "    tipusok, db = np.unique(labels, return_counts=True)\n",
    "    szamlalo = 0\n",
    "\n",
    "    for i in range(valsegek.shape[0]):\n",
    "        index = np.argmax(valsegek[i, :])\n",
    "        if tipusok[index] == labelek[i]:\n",
    "            szamlalo = szamlalo + 1\n",
    "\n",
    "    print(confusion_matrix(labelek, np.argmax(valsegek, axis=1)))\n",
    "    confmat = confusion_matrix(labelek, np.argmax(valsegek, axis=1))\n",
    "    szamlalo = szamlalo / labelek.shape[0]\n",
    "    print('The accuracy:' + str(szamlalo))\n",
    "\n",
    "    return szamlalo, confmat\n",
    "\n",
    "\n",
    "def validation_with_probabilities(valsegek, labelek, fpr, tpr, roc_auc):\n",
    "    tipusok, db = np.unique(labels, return_counts=True)\n",
    "    y_scores = np.zeros(labelek.shape)\n",
    "    szamlalo = 0\n",
    "    for i in range(valsegek.shape[0]):\n",
    "        index = np.argmax(valsegek[i, :])\n",
    "        if tipusok[index] == labelek[i]:\n",
    "            szamlalo = szamlalo + 1\n",
    "        y_scores[i] = tipusok[index]\n",
    "\n",
    "\n",
    "    for i in range(len(tipusok)):\n",
    "        our_predictions_for_class = np.zeros(labelek.shape[0])\n",
    "        true_values = np.zeros(labelek.shape[0])\n",
    "        for j in range(labelek.shape[0]):\n",
    "            if y_scores[j] == tipusok[i]:\n",
    "                our_predictions_for_class[j] = valsegek[j, i]\n",
    "            else:\n",
    "                our_predictions_for_class[j] = valsegek[j, i]\n",
    "\n",
    "            if labelek[j] == tipusok[i]:\n",
    "                true_values[j] = 1\n",
    "            else:\n",
    "                true_values[j] = 0\n",
    "\n",
    "        fpr_local, tpr_local, thresholds = roc_curve(true_values, our_predictions_for_class, pos_label=1)\n",
    "        fpr[tipusok[i]].append(fpr_local)\n",
    "        tpr[tipusok[i]].append(tpr_local)\n",
    "        pyplot.plot(fpr_local, tpr_local, linestyle='-', label= str(tipusok[i]))\n",
    "\n",
    "\n",
    "        roc_auc_local = auc(fpr_local, tpr_local)\n",
    "        roc_auc[tipusok[i]].append(roc_auc_local)\n",
    "\n",
    "    plt.xlabel('False Positive Rate')\n",
    "    plt.ylabel('True Positive Rate')\n",
    "    pyplot.legend(loc=\"lower right\")\n",
    "    pyplot.show()\n",
    "    print(confusion_matrix(labelek, y_scores))\n",
    "    confmat = confusion_matrix(labelek, y_scores)\n",
    "    szamlalo = szamlalo / labelek.shape[0]\n",
    "    print('The accuracy:' + str(szamlalo))\n",
    "    return szamlalo, confmat\n"
   ]
  },
  {
   "cell_type": "code",
   "execution_count": 23,
   "metadata": {
    "pycharm": {
     "name": "#%%\n"
    }
   },
   "outputs": [],
   "source": [
    "def create_connection_matrix(G):\n",
    "    connections = []\n",
    "    for i in range(len(G)):\n",
    "        if G[i] is not None:\n",
    "            temp = connections\n",
    "            connections_local = np.zeros([1, 2])\n",
    "            connections_local[0, 0] = int(G[i])\n",
    "            connections_local[0, 1] = int(i)\n",
    "            connections.append(connections_local)\n",
    "\n",
    "    connectivity_matrix = np.zeros([len(connections), 2], dtype=int)\n",
    "    for i in range(len(connections)):\n",
    "        connectivity_matrix[i, :] = connections[i]\n",
    "    return connectivity_matrix\n"
   ]
  },
  {
   "cell_type": "code",
   "execution_count": 17,
   "metadata": {
    "pycharm": {
     "is_executing": false,
     "name": "#%%\n"
    }
   },
   "outputs": [],
   "source": [
    "def stratKFoldEval(numberOfDatasets, labels, data, G):\n",
    "    kf = StratifiedKFold(n_splits=numberOfDatasets)\n",
    "    accuracy = 0\n",
    "    conf = np.zeros([4, 4])\n",
    "    fpr = dict()\n",
    "    fpr[1] = []\n",
    "    fpr[2] = []\n",
    "    fpr[3] = []\n",
    "    fpr[8] = []\n",
    "    tpr = dict()\n",
    "    tpr[1] = []\n",
    "    tpr[2] = []\n",
    "    tpr[3] = []\n",
    "    tpr[8] = []\n",
    "    roc_auc = dict()\n",
    "    roc_auc[1] = []\n",
    "    roc_auc[2] = []\n",
    "    roc_auc[3] = []\n",
    "    roc_auc[8] = []\n",
    "    for train, test in kf.split(labels, labels):\n",
    "        train_data = data[:, :, train]\n",
    "        test_data = data[:, :, test]\n",
    "        train_labels = labels[train]\n",
    "        test_labels = labels[test]\n",
    "        bayesianModel = learn_model(train_data, train_labels, G)\n",
    "        valsegek = classify_instances(test_data, bayesianModel)\n",
    "        smth, confi = validation_with_probabilities(valsegek, test_labels, fpr, tpr, roc_auc)\n",
    "        conf = conf + confi\n",
    "        accuracy = accuracy + smth\n",
    "\n",
    "\n",
    "    return (accuracy / numberOfDatasets), (conf / numberOfDatasets)\n"
   ]
  },
  {
   "cell_type": "code",
   "execution_count": 18,
   "metadata": {
    "pycharm": {
     "is_executing": false,
     "name": "#%%\n"
    }
   },
   "outputs": [],
   "source": [
    "def evaluation(labels, data, G):\n",
    "    print(stratKFoldEval(5, labels, data, G))\n",
    "    "
   ]
  },
  {
   "cell_type": "code",
   "execution_count": 25,
   "metadata": {
    "pycharm": {
     "is_executing": false,
     "name": "#%%\n"
    }
   },
   "outputs": [
    {
     "data": {
      "image/png": "[encoded data removed]",
      "text/plain": [
       "<Figure size 432x288 with 1 Axes>"
      ]
     },
     "metadata": {
      "needs_background": "light"
     },
     "output_type": "display_data"
    },
    {
     "name": "stdout",
     "output_type": "stream",
     "text": [
      "[[ 92   0   0  10]\n",
      " [  0 100   0   0]\n",
      " [  0   0 105   0]\n",
      " [  0   0   0 103]]\n",
      "The accuracy:0.975609756097561\n"
     ]
    },
    {
     "data": {
      "image/png": "[encoded data removed]",
      "text/plain": [
       "<Figure size 432x288 with 1 Axes>"
      ]
     },
     "metadata": {
      "needs_background": "light"
     },
     "output_type": "display_data"
    },
    {
     "name": "stdout",
     "output_type": "stream",
     "text": [
      "[[102   0   0   0]\n",
      " [  0 100   0   0]\n",
      " [  0   0  79  26]\n",
      " [  0   0  12  91]]\n",
      "The accuracy:0.9073170731707317\n"
     ]
    },
    {
     "data": {
      "image/png": "[encoded data removed]",
      "text/plain": [
       "<Figure size 432x288 with 1 Axes>"
      ]
     },
     "metadata": {
      "needs_background": "light"
     },
     "output_type": "display_data"
    },
    {
     "name": "stdout",
     "output_type": "stream",
     "text": [
      "[[102   0   0   0]\n",
      " [  0 100   0   0]\n",
      " [  0   0  91  13]\n",
      " [  0   0   1 102]]\n",
      "The accuracy:0.9657701711491442\n"
     ]
    },
    {
     "data": {
      "image/png": "[encoded data removed]",
      "text/plain": [
       "<Figure size 432x288 with 1 Axes>"
      ]
     },
     "metadata": {
      "needs_background": "light"
     },
     "output_type": "display_data"
    },
    {
     "name": "stdout",
     "output_type": "stream",
     "text": [
      "[[101   0   0   0]\n",
      " [  0 100   0   0]\n",
      " [  0   0 104   0]\n",
      " [  0   0   3 100]]\n",
      "The accuracy:0.9926470588235294\n"
     ]
    },
    {
     "data": {
      "image/png": "[encoded data removed]",
      "text/plain": [
       "<Figure size 432x288 with 1 Axes>"
      ]
     },
     "metadata": {
      "needs_background": "light"
     },
     "output_type": "display_data"
    },
    {
     "name": "stdout",
     "output_type": "stream",
     "text": [
      "[[75  0  2 24]\n",
      " [ 0 99  0  1]\n",
      " [ 0  0 91 13]\n",
      " [ 0  0 12 91]]\n",
      "The accuracy:0.8725490196078431\n",
      "(0.9427786157697617, array([[94.4,  0. ,  0.4,  6.8],\n",
      "       [ 0. , 99.8,  0. ,  0.2],\n",
      "       [ 0. ,  0. , 94. , 10.4],\n",
      "       [ 0. ,  0. ,  5.6, 97.4]]))\n"
     ]
    },
    {
     "data": {
      "image/png": "[encoded data removed]",
      "text/plain": [
       "<Figure size 432x288 with 1 Axes>"
      ]
     },
     "metadata": {
      "needs_background": "light"
     },
     "output_type": "display_data"
    },
    {
     "name": "stdout",
     "output_type": "stream",
     "text": [
      "[[102   0   0   0]\n",
      " [  0 100   0   0]\n",
      " [  0   0 105   0]\n",
      " [  0   0   0 103]]\n",
      "The accuracy:1.0\n"
     ]
    },
    {
     "data": {
      "image/png": "[encoded data removed]",
      "text/plain": [
       "<Figure size 432x288 with 1 Axes>"
      ]
     },
     "metadata": {
      "needs_background": "light"
     },
     "output_type": "display_data"
    },
    {
     "name": "stdout",
     "output_type": "stream",
     "text": [
      "[[102   0   0   0]\n",
      " [  0 100   0   0]\n",
      " [  0   0 105   0]\n",
      " [ 10   2   5  86]]\n",
      "The accuracy:0.9585365853658536\n"
     ]
    },
    {
     "data": {
      "image/png": "[encoded data removed]",
      "text/plain": [
       "<Figure size 432x288 with 1 Axes>"
      ]
     },
     "metadata": {
      "needs_background": "light"
     },
     "output_type": "display_data"
    },
    {
     "name": "stdout",
     "output_type": "stream",
     "text": [
      "[[102   0   0   0]\n",
      " [  0 100   0   0]\n",
      " [  0   0  97   7]\n",
      " [  0   0   0 103]]\n",
      "The accuracy:0.9828850855745721\n"
     ]
    },
    {
     "data": {
      "image/png": "[encoded data removed]",
      "text/plain": [
       "<Figure size 432x288 with 1 Axes>"
      ]
     },
     "metadata": {
      "needs_background": "light"
     },
     "output_type": "display_data"
    },
    {
     "name": "stdout",
     "output_type": "stream",
     "text": [
      "[[101   0   0   0]\n",
      " [  0 100   0   0]\n",
      " [  0   0 100   4]\n",
      " [  0   0   1 102]]\n",
      "The accuracy:0.9877450980392157\n"
     ]
    },
    {
     "data": {
      "image/png": "[encoded data removed]",
      "text/plain": [
       "<Figure size 432x288 with 1 Axes>"
      ]
     },
     "metadata": {
      "needs_background": "light"
     },
     "output_type": "display_data"
    },
    {
     "name": "stdout",
     "output_type": "stream",
     "text": [
      "[[ 73   0   0  28]\n",
      " [  0 100   0   0]\n",
      " [  0   0 104   0]\n",
      " [  0   0   0 103]]\n",
      "The accuracy:0.9313725490196079\n",
      "(0.9721078635998499, array([[ 96. ,   0. ,   0. ,   5.6],\n",
      "       [  0. , 100. ,   0. ,   0. ],\n",
      "       [  0. ,   0. , 102.2,   2.2],\n",
      "       [  2. ,   0.4,   1.2,  99.4]]))\n"
     ]
    },
    {
     "data": {
      "text/plain": [
       "'data_small, individuals_small, labels_small, model_lg, model_nb, test_indexes, train_indexes =load_validation()\\n\\nbayesianModel = learn_model(data, labels)\\n\\nvalsegek = classify_instances(data_small, bayesianModel)\\n#valsegek = classify_instances(data, bayesianModel)\\nvalidation(valsegek, labels)'"
      ]
     },
     "execution_count": 25,
     "metadata": {},
     "output_type": "execute_result"
    }
   ],
   "source": [
    "data, labels, individuals = load_dataset()\n",
    "#Naive Bayes\n",
    "evaluation(labels, data, None)\n",
    "#With connections\n",
    "evaluation(labels, data, nui_skeleton_conn)\n",
    "\n",
    "\n",
    "'''data_small, individuals_small, labels_small, model_lg, model_nb, test_indexes, train_indexes =load_validation()\n",
    "\n",
    "bayesianModel = learn_model(data, labels)\n",
    "\n",
    "valsegek = classify_instances(data_small, bayesianModel)\n",
    "#valsegek = classify_instances(data, bayesianModel)\n",
    "validation(valsegek, labels)'''\n"
   ]
  },
  {
   "cell_type": "code",
   "execution_count": null,
   "metadata": {},
   "outputs": [],
   "source": []
  }
 ],
 "metadata": {
  "kernelspec": {
   "display_name": "Python 3",
   "language": "python",
   "name": "python3"
  },
  "language_info": {
   "codemirror_mode": {
    "name": "ipython",
    "version": 3
   },
   "file_extension": ".py",
   "mimetype": "text/x-python",
   "name": "python",
   "nbconvert_exporter": "python",
   "pygments_lexer": "ipython3",
   "version": "3.6.8"
  },
  "pycharm": {
   "stem_cell": {
    "cell_type": "raw",
    "metadata": {
     "collapsed": false
    },
    "source": []
   }
  }
 },
 "nbformat": 4,
 "nbformat_minor": 2
}
